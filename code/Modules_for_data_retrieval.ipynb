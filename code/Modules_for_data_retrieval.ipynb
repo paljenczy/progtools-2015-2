{
 "metadata": {
  "name": "",
  "signature": "sha256:53eacea8b99f79d6362dd1b74d64c40c24fd266569d5aeed29323aef908ea72b"
 },
 "nbformat": 3,
 "nbformat_minor": 0,
 "worksheets": [
  {
   "cells": [
    {
     "cell_type": "markdown",
     "metadata": {},
     "source": [
      "# Modules for retrieving data from the Internet"
     ]
    },
    {
     "cell_type": "markdown",
     "metadata": {},
     "source": [
      "## Programming tools, 2015 Winter semester, CEU\n",
      "_Jeno Pal_, March 2015"
     ]
    },
    {
     "cell_type": "markdown",
     "metadata": {},
     "source": [
      "## Regular expressions"
     ]
    },
    {
     "cell_type": "markdown",
     "metadata": {},
     "source": [
      "Regular expressions are powerful tools to extract information from texts. Essentially they form a language for patterns with which you can easily describe complex rules to find in texts what you are looking for."
     ]
    },
    {
     "cell_type": "code",
     "collapsed": false,
     "input": [
      "import re"
     ],
     "language": "python",
     "metadata": {},
     "outputs": [],
     "prompt_number": 1
    },
    {
     "cell_type": "markdown",
     "metadata": {},
     "source": [
      "You should define a pattern, compile it and then use `match` or `search` to look for the pattern in a string.\n",
      "\n",
      "* `match` looks for the string only at the beginning of the string\n",
      "* `search` searches in the whole string"
     ]
    },
    {
     "cell_type": "code",
     "collapsed": false,
     "input": [
      "text = \"Lorem ipsum dolor sit amet, consectetur adipiscing elit. Praesent semper ex sed erat sodales, consectetur molestie augue blandit. Cras ac nisl elementum, mollis ex vitae, accumsan eros. Phasellus nulla purus, bibendum sit amet ultrices et, dignissim vitae erat. Pellentesque in gravida eros, et condimentum nisl. Praesent lobortis fermentum ipsum et lobortis. Proin ultricies dignissim eros ac cursus. Proin blandit libero ac lectus dictum rhoncus. Etiam condimentum, ligula gravida gravida rhoncus, purus erat facilisis tortor, ut elementum purus justo vitae enim. Vestibulum auctor condimentum porttitor. Quisque blandit augue vitae justo facilisis interdum. Sed vel facilisis leo, vel pulvinar enim.\""
     ],
     "language": "python",
     "metadata": {},
     "outputs": [],
     "prompt_number": 2
    },
    {
     "cell_type": "code",
     "collapsed": false,
     "input": [
      "print text"
     ],
     "language": "python",
     "metadata": {},
     "outputs": [
      {
       "output_type": "stream",
       "stream": "stdout",
       "text": [
        "Lorem ipsum dolor sit amet, consectetur adipiscing elit. Praesent semper ex sed erat sodales, consectetur molestie augue blandit. Cras ac nisl elementum, mollis ex vitae, accumsan eros. Phasellus nulla purus, bibendum sit amet ultrices et, dignissim vitae erat. Pellentesque in gravida eros, et condimentum nisl. Praesent lobortis fermentum ipsum et lobortis. Proin ultricies dignissim eros ac cursus. Proin blandit libero ac lectus dictum rhoncus. Etiam condimentum, ligula gravida gravida rhoncus, purus erat facilisis tortor, ut elementum purus justo vitae enim. Vestibulum auctor condimentum porttitor. Quisque blandit augue vitae justo facilisis interdum. Sed vel facilisis leo, vel pulvinar enim.\n"
       ]
      }
     ],
     "prompt_number": 3
    },
    {
     "cell_type": "code",
     "collapsed": false,
     "input": [
      "regex = \"Lorem\"\n",
      "pattern = re.compile(regex)"
     ],
     "language": "python",
     "metadata": {},
     "outputs": [],
     "prompt_number": 4
    },
    {
     "cell_type": "code",
     "collapsed": false,
     "input": [
      "# if there is a match, it gives back a match object\n",
      "pattern.match(text)"
     ],
     "language": "python",
     "metadata": {},
     "outputs": [
      {
       "metadata": {},
       "output_type": "pyout",
       "prompt_number": 5,
       "text": [
        "<_sre.SRE_Match at 0x7f76f00217e8>"
       ]
      }
     ],
     "prompt_number": 5
    },
    {
     "cell_type": "code",
     "collapsed": false,
     "input": [
      "# if there is no match, it gives back nothing (None)\n",
      "pattern = re.compile(\"Foobar\")\n",
      "pattern.match(text)"
     ],
     "language": "python",
     "metadata": {},
     "outputs": [],
     "prompt_number": 6
    },
    {
     "cell_type": "code",
     "collapsed": false,
     "input": [
      "# see the difference between match and search: searching only at the beginning or\n",
      "# in the whole string\n",
      "pattern = re.compile(\"ipsum\")\n",
      "\n",
      "result_match = pattern.match(text)\n",
      "result_search = pattern.search(text)"
     ],
     "language": "python",
     "metadata": {},
     "outputs": [],
     "prompt_number": 7
    },
    {
     "cell_type": "code",
     "collapsed": false,
     "input": [
      "print(bool(result_match))\n",
      "print(bool(result_search))"
     ],
     "language": "python",
     "metadata": {},
     "outputs": [
      {
       "output_type": "stream",
       "stream": "stdout",
       "text": [
        "False\n",
        "True\n"
       ]
      }
     ],
     "prompt_number": 8
    },
    {
     "cell_type": "markdown",
     "metadata": {},
     "source": [
      "### Elements of patterns"
     ]
    },
    {
     "cell_type": "code",
     "collapsed": false,
     "input": [
      "# search at the beginning: ^\n",
      "# search at the end: $\n",
      "\n",
      "text = \"Python is a lot of fun\"\n",
      "\n",
      "pattern = re.compile(\"^Python\")\n",
      "pattern.search(text)"
     ],
     "language": "python",
     "metadata": {},
     "outputs": [
      {
       "metadata": {},
       "output_type": "pyout",
       "prompt_number": 9,
       "text": [
        "<_sre.SRE_Match at 0x7f76f0021b28>"
       ]
      }
     ],
     "prompt_number": 9
    },
    {
     "cell_type": "code",
     "collapsed": false,
     "input": [
      "pattern = re.compile(\"^is\")\n",
      "print(bool(pattern.search(text)))\n",
      "\n",
      "pattern = re.compile(\"is\")\n",
      "print(bool(pattern.search(text)))\n",
      "\n",
      "pattern = re.compile(\"lot\")\n",
      "print(bool(pattern.search(text)))\n",
      "\n",
      "pattern = re.compile(\"lot$\")\n",
      "print(bool(pattern.search(text)))"
     ],
     "language": "python",
     "metadata": {},
     "outputs": [
      {
       "output_type": "stream",
       "stream": "stdout",
       "text": [
        "False\n",
        "True\n",
        "True\n",
        "False\n"
       ]
      }
     ],
     "prompt_number": 10
    },
    {
     "cell_type": "code",
     "collapsed": false,
     "input": [
      "# \\d: any numeric digit\n",
      "\n",
      "phone_num = \"(800) 456-567\""
     ],
     "language": "python",
     "metadata": {},
     "outputs": [],
     "prompt_number": 11
    },
    {
     "cell_type": "code",
     "collapsed": false,
     "input": [
      "# there is a numeric character in the string\n",
      "pattern = re.compile(\"\\d\")\n",
      "print(bool(pattern.search(phone_num)))\n",
      "\n",
      "# it does not begin with one\n",
      "pattern = re.compile(\"^\\d\")\n",
      "print(bool(pattern.search(phone_num)))\n",
      "\n",
      "# it does end with one\n",
      "pattern = re.compile(\"\\d$\")\n",
      "print(bool(pattern.search(phone_num)))"
     ],
     "language": "python",
     "metadata": {},
     "outputs": [
      {
       "output_type": "stream",
       "stream": "stdout",
       "text": [
        "True\n",
        "False\n",
        "True\n"
       ]
      }
     ],
     "prompt_number": 12
    },
    {
     "cell_type": "code",
     "collapsed": false,
     "input": [
      "# x*: x is present zero or more times\n",
      "# x+: x is present one or more times\n",
      "\n",
      "phone_num_1 = \"(800) 456-567\"\n",
      "phone_num_2 = \"800 456-567\"\n",
      "\n",
      "pattern_plus = re.compile(\"\\(+\\d\\d\\d\\)+\")\n",
      "pattern_star = re.compile(\"\\(*\\d\\d\\d\\)*\")\n",
      "\n",
      "print(bool(pattern_plus.search(phone_num_1)))\n",
      "print(bool(pattern_plus.search(phone_num_2)))\n",
      "\n",
      "print(bool(pattern_star.search(phone_num_1)))\n",
      "print(bool(pattern_star.search(phone_num_2)))"
     ],
     "language": "python",
     "metadata": {},
     "outputs": [
      {
       "output_type": "stream",
       "stream": "stdout",
       "text": [
        "True\n",
        "False\n",
        "True\n",
        "True\n"
       ]
      }
     ],
     "prompt_number": 13
    },
    {
     "cell_type": "code",
     "collapsed": false,
     "input": [
      "# {n}: match exactly n times\n",
      "# {n,m}: match at least n times, not more than m times\n",
      "\n",
      "phone_num_1 = \"(800) 456-567\"\n",
      "phone_num_2 = \"(36) 345-456\"\n",
      "\n",
      "# the parenthesis has to be escaped with a backslash: parenthesis are special characters in regex\n",
      "# if we want to tell Python that we are looking for a parenthesis in the text, we have to use\n",
      "# \\( \\)\n",
      "pattern = re.compile(\"\\(\\d{3}\\) \\d{3}-\\d{3}\")\n",
      "print(bool(pattern.search(phone_num_1)))\n",
      "print(bool(pattern.search(phone_num_2)))\n",
      "\n",
      "# - now allow for 2 or 3 digits in the area code\n",
      "pattern = re.compile(\"\\(\\d{2,3}\\) \\d{3}-\\d{3}\")\n",
      "print(bool(pattern.search(phone_num_2)))"
     ],
     "language": "python",
     "metadata": {},
     "outputs": [
      {
       "output_type": "stream",
       "stream": "stdout",
       "text": [
        "True\n",
        "False\n",
        "True\n"
       ]
      }
     ],
     "prompt_number": 15
    },
    {
     "cell_type": "code",
     "collapsed": false,
     "input": [
      "# (a|b|c): matches either a or b or c\n",
      "\n",
      "phone_number_1 = \"36-234-345\"\n",
      "phone_number_2 = \"HUN-234-567\"\n",
      "\n",
      "# [A-z] matches any alphabetic character\n",
      "\n",
      "pattern = re.compile(\"(\\d+|[A-z]+)-\\d{3}-\\d{3}\")\n",
      "print(bool(pattern.search(phone_number_1)))\n",
      "print(bool(pattern.search(phone_number_2)))"
     ],
     "language": "python",
     "metadata": {},
     "outputs": [
      {
       "output_type": "stream",
       "stream": "stdout",
       "text": [
        "True\n",
        "True\n"
       ]
      }
     ],
     "prompt_number": 22
    },
    {
     "cell_type": "code",
     "collapsed": false,
     "input": [
      "# (x) is stored as a group, you can get the matched value with the `.groups()` method when using `re.search`\n",
      "\n",
      "phone_number_1 = \"36-234-345\"\n",
      "phone_number_2 = \"HUN-234-567\"\n",
      "\n",
      "# \\w means alphanumeric character: either numeric or alphabetic\n",
      "pattern = re.compile(\"(\\w+)-(\\d{3})-(\\d{3})\")\n",
      "\n",
      "gr = pattern.search(phone_number_1).groups()\n",
      "print(type(gr))\n",
      "print(gr)"
     ],
     "language": "python",
     "metadata": {},
     "outputs": [
      {
       "output_type": "stream",
       "stream": "stdout",
       "text": [
        "<type 'tuple'>\n",
        "('36', '234', '345')\n"
       ]
      }
     ],
     "prompt_number": 23
    },
    {
     "cell_type": "code",
     "collapsed": false,
     "input": [
      "gr = pattern.search(phone_number_2).groups()\n",
      "print \"Area is %s\" % gr[0]\n",
      "print \"First part of the number is %s\" % gr[1]\n",
      "print \"Second part of the number is %s\" % gr[2]"
     ],
     "language": "python",
     "metadata": {},
     "outputs": [
      {
       "output_type": "stream",
       "stream": "stdout",
       "text": [
        "Area is HUN\n",
        "First part of the number is 234\n",
        "Second part of the number is 567\n"
       ]
      }
     ],
     "prompt_number": 24
    },
    {
     "cell_type": "markdown",
     "metadata": {},
     "source": [
      "There is a lot more into regular expressions. Google is your friend!"
     ]
    },
    {
     "cell_type": "markdown",
     "metadata": {},
     "source": [
      "## Requests"
     ]
    },
    {
     "cell_type": "markdown",
     "metadata": {},
     "source": [
      "`requests` is a module used to interact with web pages. We will use the module solely to retrieve a web page as an HTML text, but again, there is a lot more to this module."
     ]
    },
    {
     "cell_type": "code",
     "collapsed": false,
     "input": [
      "import requests"
     ],
     "language": "python",
     "metadata": {},
     "outputs": [],
     "prompt_number": 25
    },
    {
     "cell_type": "code",
     "collapsed": false,
     "input": [
      "url = \"http://scores.espn.go.com/nba/boxscore?gameId=400579201\"\n",
      "\n",
      "response = requests.get(url)\n",
      "html_text = response.content"
     ],
     "language": "python",
     "metadata": {},
     "outputs": [],
     "prompt_number": 26
    },
    {
     "cell_type": "markdown",
     "metadata": {},
     "source": [
      "## Beautiful Soup"
     ]
    },
    {
     "cell_type": "markdown",
     "metadata": {},
     "source": [
      "This is a module used to parse HTML files: make sense of its content, extract relevant fields, etc. We are again scratching just the surface here.\n",
      "\n",
      "* where is the name coming from? See [here](http://en.wikipedia.org/wiki/Beautiful_Soup)"
     ]
    },
    {
     "cell_type": "code",
     "collapsed": false,
     "input": [
      "from bs4 import BeautifulSoup"
     ],
     "language": "python",
     "metadata": {},
     "outputs": [],
     "prompt_number": 27
    },
    {
     "cell_type": "code",
     "collapsed": false,
     "input": [
      "url = \"http://espn.go.com/nba/team/stats/_/name/lac/year/2014/\"\n",
      "\n",
      "# go and check this url! use Right click -> Inspect element to discover what kind of tags\n",
      "# enclose information you are looking for\n",
      "\n",
      "response = requests.get(url)\n",
      "html_text = response.content\n",
      "\n",
      "soup = BeautifulSoup(html_text)"
     ],
     "language": "python",
     "metadata": {},
     "outputs": [],
     "prompt_number": 32
    },
    {
     "cell_type": "markdown",
     "metadata": {},
     "source": [
      "If you want to parse parts of a webpage, you have to closely inspect its structure. A great way to do that is (when using Chrome): `Right click - Inspect element`. Then you can go deeper and deeper to the tree structure to reach the information you want. This way you can observe how information is embedded and you can use Beautiful Soup to search for that information. "
     ]
    },
    {
     "cell_type": "code",
     "collapsed": false,
     "input": [
      "# imagine we want to get a list of players\n",
      "# players' names are within \"tr\" tags, having a class attribute that contain the word \"player\"\n",
      "\n",
      "# find all \"tr\" elements whose class attribute matches a certain regular expression\n",
      "roster = soup.find_all('tr', class_=re.compile('player'))"
     ],
     "language": "python",
     "metadata": {},
     "outputs": [],
     "prompt_number": 33
    },
    {
     "cell_type": "code",
     "collapsed": false,
     "input": [
      "for player in roster:\n",
      "    # use .get_text() to get the text enclosed in an HTML tag\n",
      "    # information is delimited here by commas, the first element is the player's name\n",
      "    print player.get_text().split(\",\")[0]"
     ],
     "language": "python",
     "metadata": {},
     "outputs": [
      {
       "output_type": "stream",
       "stream": "stdout",
       "text": [
        "Blake Griffin\n",
        "Chris Paul\n",
        "Jamal Crawford\n",
        "J.J. Redick\n",
        "Darren Collison\n",
        "DeAndre Jordan\n",
        "Matt Barnes\n",
        "Danny Granger\n",
        "Jared Dudley\n",
        "Willie Green\n",
        "Glen Davis\n",
        "Antawn Jamison\n",
        "Hedo Turkoglu\n",
        "Reggie Bullock\n",
        "Sasha Vujacic\n",
        "Byron Mullens\n",
        "Ryan Hollins\n",
        "Stephen Jackson\n",
        "Maalik Wayns\n",
        "Darius Morris\n",
        "Blake Griffin\n",
        "Chris Paul\n",
        "Jamal Crawford\n",
        "J.J. Redick\n",
        "Darren Collison\n",
        "DeAndre Jordan\n",
        "Matt Barnes\n",
        "Danny Granger\n",
        "Jared Dudley\n",
        "Willie Green\n",
        "Glen Davis\n",
        "Antawn Jamison\n",
        "Hedo Turkoglu\n",
        "Reggie Bullock\n",
        "Sasha Vujacic\n",
        "Byron Mullens\n",
        "Ryan Hollins\n",
        "Stephen Jackson\n",
        "Maalik Wayns\n",
        "Darius Morris\n"
       ]
      }
     ],
     "prompt_number": 36
    },
    {
     "cell_type": "code",
     "collapsed": false,
     "input": [
      "# we see every player twice, filter them\n",
      "\n",
      "list_players = [player.get_text().split(\",\")[0] for player in roster]\n",
      "list_players = list_players[:len(list_players)/2]\n",
      "\n",
      "for p in list_players:\n",
      "    print p"
     ],
     "language": "python",
     "metadata": {},
     "outputs": [
      {
       "output_type": "stream",
       "stream": "stdout",
       "text": [
        "Blake Griffin\n",
        "Chris Paul\n",
        "Jamal Crawford\n",
        "J.J. Redick\n",
        "Darren Collison\n",
        "DeAndre Jordan\n",
        "Matt Barnes\n",
        "Danny Granger\n",
        "Jared Dudley\n",
        "Willie Green\n",
        "Glen Davis\n",
        "Antawn Jamison\n",
        "Hedo Turkoglu\n",
        "Reggie Bullock\n",
        "Sasha Vujacic\n",
        "Byron Mullens\n",
        "Ryan Hollins\n",
        "Stephen Jackson\n",
        "Maalik Wayns\n",
        "Darius Morris\n"
       ]
      }
     ],
     "prompt_number": 37
    }
   ],
   "metadata": {}
  }
 ]
}