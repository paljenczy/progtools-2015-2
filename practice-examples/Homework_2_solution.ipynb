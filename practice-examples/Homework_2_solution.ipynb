{
 "metadata": {
  "name": "",
  "signature": "sha256:efbcc19a2317a9675fd3da8e666f3979524b1115a895c1e3bbf27434a2856bca"
 },
 "nbformat": 3,
 "nbformat_minor": 0,
 "worksheets": [
  {
   "cells": [
    {
     "cell_type": "markdown",
     "metadata": {},
     "source": [
      "# Homework 2 - with solutions"
     ]
    },
    {
     "cell_type": "markdown",
     "metadata": {},
     "source": [
      "### Exercise: working with dictionaries"
     ]
    },
    {
     "cell_type": "markdown",
     "metadata": {},
     "source": [
      "Let's take a number of US states and two dictionaries that contain state abbreviations and some cities in the states.\n",
      "\n",
      "```\n",
      "states = {\n",
      "    'Oregon': 'OR',\n",
      "    'Florida': 'FL',\n",
      "    'California': 'CA',\n",
      "    'New York': 'NY',\n",
      "    'Michigan': 'MI'\n",
      "}\n",
      "\n",
      "cities = {\n",
      "    'CA': 'San Francisco',\n",
      "    'MI': 'Detroit',\n",
      "    'FL': 'Jacksonville',\n",
      "    'NY': 'New York',\n",
      "    'OR': 'Portland'\n",
      "}\n",
      "```"
     ]
    },
    {
     "cell_type": "markdown",
     "metadata": {},
     "source": [
      "Tasks to do:\n",
      "\n",
      "1. Add the \"Georgia\" - \"GA\" key-value pair to the `states` dictionary and the \"GA\" - \"Atlanta\" key-value pair to the `cities` dictionary.\n",
      "2. Test if North Dakota is in the states database. If yes, print a message: \"The abbreviation of >>here comes the state's name<< is >>here comes the abbreviation<<\"., if not, print a sorry message: \"Sorry, the state >>here comes the state's name<< does not exist in the database\".\n",
      "    * with a dictionary `d`, you can iterate on key, value pairs using the following syntax, remembering that `d.items()` gives you a list of (key, value) pairs\n",
      "    ```\n",
      "    for key, value in d.items():\n",
      "        # do something with the key and the value\n",
      "    ```\n",
      "    * you can concatenate strings with the \"+\" operator\n",
      "    * define a variable that has the value \"North Dakota\"\n",
      "    * write your test referencing to this variable. It is useful because if you want to test another state, you only have to modify you code in one place.\n",
      "3. Print all abbreviations with what is it standing for\n",
      "4. To the previous statements, add the city information you have: \".. and this state has a city called [city name]\n"
     ]
    },
    {
     "cell_type": "markdown",
     "metadata": {},
     "source": [
      "### Solution"
     ]
    },
    {
     "cell_type": "code",
     "collapsed": false,
     "input": [
      "states = {\n",
      "    'Oregon': 'OR',\n",
      "    'Florida': 'FL',\n",
      "    'California': 'CA',\n",
      "    'New York': 'NY',\n",
      "    'Michigan': 'MI'\n",
      "}\n",
      "\n",
      "cities = {\n",
      "    'CA': 'San Francisco',\n",
      "    'MI': 'Detroit',\n",
      "    'FL': 'Jacksonville',\n",
      "    'NY': 'New York',\n",
      "    'OR': 'Portland'\n",
      "}"
     ],
     "language": "python",
     "metadata": {},
     "outputs": [],
     "prompt_number": 27
    },
    {
     "cell_type": "code",
     "collapsed": false,
     "input": [
      "# 1. \n",
      "states[\"Georgia\"] = \"GA\"\n",
      "cities[\"GA\"] = \"Atlanta\"\n",
      "\n",
      "# 2.\n",
      "x = \"North Dakota\"\n",
      "\n",
      "if states.get(x):\n",
      "    print \"The abbreviation of %s is %s\" % (x, states[x])\n",
      "else:\n",
      "    print \"Sorry, %s is not in the database\" % x"
     ],
     "language": "python",
     "metadata": {},
     "outputs": [
      {
       "output_type": "stream",
       "stream": "stdout",
       "text": [
        "Sorry, North Dakota is not in the database\n"
       ]
      }
     ],
     "prompt_number": 28
    },
    {
     "cell_type": "code",
     "collapsed": false,
     "input": [
      "for state, abbrev in states.items():\n",
      "    print \"%s stands for %s\" % (abbrev, state)"
     ],
     "language": "python",
     "metadata": {},
     "outputs": [
      {
       "output_type": "stream",
       "stream": "stdout",
       "text": [
        "GA stands for Georgia\n",
        "MI stands for Michigan\n",
        "FL stands for Florida\n",
        "OR stands for Oregon\n",
        "NY stands for New York\n",
        "CA stands for California\n"
       ]
      }
     ],
     "prompt_number": 29
    },
    {
     "cell_type": "code",
     "collapsed": false,
     "input": [
      "for state, abbrev in states.items():\n",
      "    print \"%s stands for %s and this state has a city called %s\" % (abbrev, state, cities[abbrev])"
     ],
     "language": "python",
     "metadata": {},
     "outputs": [
      {
       "output_type": "stream",
       "stream": "stdout",
       "text": [
        "GA stands for Georgia and this state has a city called Atlanta\n",
        "MI stands for Michigan and this state has a city called Detroit\n",
        "FL stands for Florida and this state has a city called Jacksonville\n",
        "OR stands for Oregon and this state has a city called Portland\n",
        "NY stands for New York and this state has a city called New York\n",
        "CA stands for California and this state has a city called San Francisco\n"
       ]
      }
     ],
     "prompt_number": 30
    },
    {
     "cell_type": "markdown",
     "metadata": {},
     "source": [
      "### Exercise: numbers divisible by 3 or 7"
     ]
    },
    {
     "cell_type": "markdown",
     "metadata": {},
     "source": [
      "How many numbers below 12345 are divisible by either 3 or 7?\n",
      "\n",
      "* you can get the remainder of dividing an integer `x` by another integer `y` by writing `x % y`. So, for example, `20 % 3` gives 2. Try it!\n",
      "* based on this, you can test if a number is divisible by another by testing if the remainder is zero. Try it!\n",
      "* write a for loop that answers the question!\n",
      "    * set up a `counter = 0`. In the loop, whenever a number is divisible by either 3 or 7, you should increase the value of `counter` by one\n",
      "* write a while loop that answers the same question\n",
      "* write a while loop that begins with `while True:`, and use a `break` statement to finish the loop if you have already examined all integers below 12345"
     ]
    },
    {
     "cell_type": "markdown",
     "metadata": {},
     "source": [
      "### Solution"
     ]
    },
    {
     "cell_type": "code",
     "collapsed": false,
     "input": [
      "remainder = 20 % 3 \n",
      "print(remainder)\n",
      "\n",
      "# test if 32 is divisible by 16\n",
      "is_divisible = (32 % 16 == 0)\n",
      "print(is_divisible)"
     ],
     "language": "python",
     "metadata": {},
     "outputs": [
      {
       "output_type": "stream",
       "stream": "stdout",
       "text": [
        "2\n",
        "True\n"
       ]
      }
     ],
     "prompt_number": 31
    },
    {
     "cell_type": "code",
     "collapsed": false,
     "input": [
      "counter = 0\n",
      "\n",
      "for x in range(12345):\n",
      "    if (x % 3 == 0) or (x % 7 == 0):\n",
      "        counter += 1\n",
      "\n",
      "print(\"%d numbers below 12345 are divisible by either 3 or 7\" % counter)"
     ],
     "language": "python",
     "metadata": {},
     "outputs": [
      {
       "output_type": "stream",
       "stream": "stdout",
       "text": [
        "5291 numbers below 12345 are divisible by either 3 or 7\n"
       ]
      }
     ],
     "prompt_number": 32
    },
    {
     "cell_type": "code",
     "collapsed": false,
     "input": [
      "counter = 0\n",
      "num = 0\n",
      "\n",
      "while num < 12345:\n",
      "    if (num % 3 == 0) or (num % 7 == 0):\n",
      "        counter += 1\n",
      "    num += 1\n",
      "    \n",
      "print(\"%d numbers below 12345 are divisible by either 3 or 7\" % counter)"
     ],
     "language": "python",
     "metadata": {},
     "outputs": [
      {
       "output_type": "stream",
       "stream": "stdout",
       "text": [
        "5291 numbers below 12345 are divisible by either 3 or 7\n"
       ]
      }
     ],
     "prompt_number": 33
    },
    {
     "cell_type": "code",
     "collapsed": false,
     "input": [
      "counter = 0\n",
      "num = 0\n",
      "\n",
      "while True:\n",
      "    if num >= 12345:\n",
      "        break\n",
      "    if (num % 3 == 0) or (num % 7 == 0):\n",
      "        counter += 1\n",
      "    num += 1\n",
      "        \n",
      "print(\"%d numbers below 12345 are divisible by either 3 or 7\" % counter)"
     ],
     "language": "python",
     "metadata": {},
     "outputs": [
      {
       "output_type": "stream",
       "stream": "stdout",
       "text": [
        "5291 numbers below 12345 are divisible by either 3 or 7\n"
       ]
      }
     ],
     "prompt_number": 34
    },
    {
     "cell_type": "markdown",
     "metadata": {},
     "source": [
      "### Exercise: combining lists to dict\n",
      "\n",
      "Define two lists: \n",
      "```\n",
      "countries = [\"USA\", \"Hungary\", \"France\", \"Russia\", \"Spain\"]\n",
      "capitals = [\"Washington\", \"Budapest\", \"Paris\", \"Moscow\", \"Madrid\"]\n",
      "```\n",
      "Create a dictionary linking countries (keys) to capitals (values).\n",
      "\n",
      "1. you can create an empty dictionary by `name = {}`, then you can add the pairs with a for loop\n",
      "    * loop over range(len(countries)) and at each step, take the ith element of countries, use it as a key and add the ith element of capitals as value\n",
      "2. observe and try the function `zip` by typing `zip?`, then evaluating the cell with `Shift + Enter`\n",
      "    * it zippes together sequences (lists or tuples) and gives you a new list containing tuples pairing the first element of one list with the first element of the other, second of one with second of the other, etc. Try it! \n",
      "    * now loop over `zip(countries, capitals)` to build your dictionary!\n",
      "3. If you give a list of (key, value) pairs to the function `dict(list_of_key_value_pairs)`, it returns a dictionary with the first elements of the pairs as keys, second elements as values. So, using `zip` and `dict()`, can you solve the problem in just one line?"
     ]
    },
    {
     "cell_type": "markdown",
     "metadata": {},
     "source": [
      "### Solution"
     ]
    },
    {
     "cell_type": "code",
     "collapsed": false,
     "input": [
      "countries = [\"USA\", \"Hungary\", \"France\", \"Russia\", \"Spain\"]\n",
      "capitals = [\"Washington\", \"Budapest\", \"Paris\", \"Moscow\", \"Madrid\"]"
     ],
     "language": "python",
     "metadata": {},
     "outputs": [],
     "prompt_number": 35
    },
    {
     "cell_type": "code",
     "collapsed": false,
     "input": [
      "# using indices: not so pythonic\n",
      "d = {}\n",
      "for i in range(len(countries)):\n",
      "    d[countries[i]] = capitals[i]\n",
      "    \n",
      "print(d)"
     ],
     "language": "python",
     "metadata": {},
     "outputs": [
      {
       "output_type": "stream",
       "stream": "stdout",
       "text": [
        "{'Hungary': 'Budapest', 'Spain': 'Madrid', 'Russia': 'Moscow', 'USA': 'Washington', 'France': 'Paris'}\n"
       ]
      }
     ],
     "prompt_number": 36
    },
    {
     "cell_type": "code",
     "collapsed": false,
     "input": [
      "# using zip: very pythonic\n",
      "d2 = {}\n",
      "for country, capital in zip(countries, capitals):\n",
      "    d2[country] = capital\n",
      "\n",
      "print(d2)"
     ],
     "language": "python",
     "metadata": {},
     "outputs": [
      {
       "output_type": "stream",
       "stream": "stdout",
       "text": [
        "{'Hungary': 'Budapest', 'Spain': 'Madrid', 'Russia': 'Moscow', 'USA': 'Washington', 'France': 'Paris'}\n"
       ]
      }
     ],
     "prompt_number": 37
    },
    {
     "cell_type": "code",
     "collapsed": false,
     "input": [
      "# even more pythonic: dict() takes a list of (key, value) pairs and creates a dictionary of them\n",
      "d3 = dict(zip(countries, capitals))\n",
      "print(d3)"
     ],
     "language": "python",
     "metadata": {},
     "outputs": [
      {
       "output_type": "stream",
       "stream": "stdout",
       "text": [
        "{'Hungary': 'Budapest', 'Spain': 'Madrid', 'Russia': 'Moscow', 'USA': 'Washington', 'France': 'Paris'}\n"
       ]
      }
     ],
     "prompt_number": 38
    },
    {
     "cell_type": "markdown",
     "metadata": {},
     "source": [
      "### Exercise: the Fibonacci sequence"
     ]
    },
    {
     "cell_type": "markdown",
     "metadata": {},
     "source": [
      "The [Fibonacci sequence](#http://en.wikipedia.org/wiki/Fibonacci_number) is a famous sequence of numbers. It begins with 1, 1 then followed by the sum of the previous two elements. Exercise: find the 100th element of the sequence! Also, how many digits has the 1000th element?\n",
      "\n",
      "* initialize a list `sequence = [1, 1]`\n",
      "* use a while loop to test whether `sequence` has a length less than 1000\n",
      "* if yes, calculate the next value and append to the sequence\n",
      "* you can turn an integer to a string by using the str() function: this way you can determine the number of digits of a number (with which function?)"
     ]
    },
    {
     "cell_type": "markdown",
     "metadata": {},
     "source": [
      "### Solution"
     ]
    },
    {
     "cell_type": "code",
     "collapsed": false,
     "input": [
      "num_1 = 1\n",
      "num_2 = 1\n",
      "\n",
      "sequence = [1, 1]\n",
      "while len(sequence) < 1000:\n",
      "    # generate new number\n",
      "    new_num = sequence[-1] + sequence[-2]\n",
      "    # add the new value\n",
      "    sequence.append(new_num)\n",
      "    \n",
      "print(\"The 100th number in the Fibonacci sequence is %d\" % sequence[99])\n",
      "print(\"The 1000th number in the Fibonacci sequence has %d digits\" % len(str(sequence[999])))"
     ],
     "language": "python",
     "metadata": {},
     "outputs": [
      {
       "output_type": "stream",
       "stream": "stdout",
       "text": [
        "The 100th number in the Fibonacci sequence is 354224848179261915075\n",
        "The 1000th number in the Fibonacci sequence has 209 digits\n"
       ]
      }
     ],
     "prompt_number": 39
    },
    {
     "cell_type": "markdown",
     "metadata": {},
     "source": [
      "### Exercise: working with text"
     ]
    },
    {
     "cell_type": "markdown",
     "metadata": {},
     "source": [
      "Take the following text: \n",
      "\n",
      "Lorem ipsum dolor sit amet, consectetur adipiscing elit. Pellentesque placerat non libero ultricies consectetur. Proin leo diam, consectetur vel ligula a, hendrerit posuere risus. Quisque vel massa at ligula placerat tempor in eget nibh. Aenean viverra risus vitae pulvinar tincidunt. Etiam tempus nulla eget augue ornare feugiat. Suspendisse potenti. Mauris imperdiet risus vitae nisi tempus, eget laoreet turpis ullamcorper. Vivamus cursus accumsan maximus. Nulla consequat, mi eu tempor gravida, justo odio faucibus massa, vitae pharetra enim nulla sed urna. Nulla tincidunt quis lorem sed cursus. Etiam mi mauris, pellentesque ac turpis vel, interdum rhoncus tortor. Proin tristique mi lectus, vitae lobortis sem ullamcorper nec. Mauris sed mattis nisl. Nam est nunc, congue nec consequat ut, dapibus sed arcu.\n",
      "\n",
      "1. Define a string variable that contains this long text.\n",
      "2. How many sentences are contained in the text? Use that only dots mark the end of a sentence in the text.\n",
      "2. get rid of punctuation: import the `string` module and see what you get with `string.punctuation`. Use that to filter punctuation\n",
      "    * remember that you can iterate on a string like it was a list of characters\n",
      "    * define an empty string `text_clean = \"\"` and with a loop, add all characters `char` that are non-punctuation characters to the variable: `text_clean = text_clean + char`\n",
      "    * you can try an alternative solution\n",
      "        * with list comprehension, create a list of characters that are non-punctuations\n",
      "        * use the `join` method of the empty string `\"\"` to joint these characters\n",
      "3. Count the number of words by splitting the clean text on whitespaces.\n",
      "4. Count the number of words that are longer than 5 letters."
     ]
    },
    {
     "cell_type": "markdown",
     "metadata": {},
     "source": [
      "### Solution"
     ]
    },
    {
     "cell_type": "code",
     "collapsed": false,
     "input": [
      "# 1.\n",
      "text = \"Lorem ipsum dolor sit amet, consectetur adipiscing elit. Pellentesque placerat non libero ultricies consectetur. Proin leo diam, consectetur vel ligula a, hendrerit posuere risus. Quisque vel massa at ligula placerat tempor in eget nibh. Aenean viverra risus vitae pulvinar tincidunt. Etiam tempus nulla eget augue ornare feugiat. Suspendisse potenti. Mauris imperdiet risus vitae nisi tempus, eget laoreet turpis ullamcorper. Vivamus cursus accumsan maximus. Nulla consequat, mi eu tempor gravida, justo odio faucibus massa, vitae pharetra enim nulla sed urna. Nulla tincidunt quis lorem sed cursus. Etiam mi mauris, pellentesque ac turpis vel, interdum rhoncus tortor. Proin tristique mi lectus, vitae lobortis sem ullamcorper nec. Mauris sed mattis nisl. Nam est nunc, congue nec consequat ut, dapibus sed arcu.\""
     ],
     "language": "python",
     "metadata": {},
     "outputs": [],
     "prompt_number": 40
    },
    {
     "cell_type": "code",
     "collapsed": false,
     "input": [
      "# 2.\n",
      "sentences = text.split(\".\")\n",
      "n_sentences = len(sentences)\n",
      "print(\"The text has %d sentences.\" % n_sentences)"
     ],
     "language": "python",
     "metadata": {},
     "outputs": [
      {
       "output_type": "stream",
       "stream": "stdout",
       "text": [
        "The text has 16 sentences.\n"
       ]
      }
     ],
     "prompt_number": 41
    },
    {
     "cell_type": "code",
     "collapsed": false,
     "input": [
      "# 3.\n",
      "import string\n",
      "\n",
      "string.punctuation\n",
      "\n",
      "text_clean = \"\"\n",
      "for letter in text:\n",
      "    if letter not in string.punctuation:\n",
      "        text_clean += letter\n",
      "        \n",
      "print(text_clean)"
     ],
     "language": "python",
     "metadata": {},
     "outputs": [
      {
       "output_type": "stream",
       "stream": "stdout",
       "text": [
        "Lorem ipsum dolor sit amet consectetur adipiscing elit Pellentesque placerat non libero ultricies consectetur Proin leo diam consectetur vel ligula a hendrerit posuere risus Quisque vel massa at ligula placerat tempor in eget nibh Aenean viverra risus vitae pulvinar tincidunt Etiam tempus nulla eget augue ornare feugiat Suspendisse potenti Mauris imperdiet risus vitae nisi tempus eget laoreet turpis ullamcorper Vivamus cursus accumsan maximus Nulla consequat mi eu tempor gravida justo odio faucibus massa vitae pharetra enim nulla sed urna Nulla tincidunt quis lorem sed cursus Etiam mi mauris pellentesque ac turpis vel interdum rhoncus tortor Proin tristique mi lectus vitae lobortis sem ullamcorper nec Mauris sed mattis nisl Nam est nunc congue nec consequat ut dapibus sed arcu\n"
       ]
      }
     ],
     "prompt_number": 42
    },
    {
     "cell_type": "code",
     "collapsed": false,
     "input": [
      "# 3. alternative, using list comprehension and join\n",
      "\n",
      "# get the characters that are not punctuations\n",
      "non_punct_characters = [x for x in text if x not in string.punctuation]\n",
      "# the join method is called using the empty string \"\"\n",
      "text_clean = \"\".join(non_punct_characters)\n",
      "\n",
      "print(text_clean)"
     ],
     "language": "python",
     "metadata": {},
     "outputs": [
      {
       "output_type": "stream",
       "stream": "stdout",
       "text": [
        "Lorem ipsum dolor sit amet consectetur adipiscing elit Pellentesque placerat non libero ultricies consectetur Proin leo diam consectetur vel ligula a hendrerit posuere risus Quisque vel massa at ligula placerat tempor in eget nibh Aenean viverra risus vitae pulvinar tincidunt Etiam tempus nulla eget augue ornare feugiat Suspendisse potenti Mauris imperdiet risus vitae nisi tempus eget laoreet turpis ullamcorper Vivamus cursus accumsan maximus Nulla consequat mi eu tempor gravida justo odio faucibus massa vitae pharetra enim nulla sed urna Nulla tincidunt quis lorem sed cursus Etiam mi mauris pellentesque ac turpis vel interdum rhoncus tortor Proin tristique mi lectus vitae lobortis sem ullamcorper nec Mauris sed mattis nisl Nam est nunc congue nec consequat ut dapibus sed arcu\n"
       ]
      }
     ],
     "prompt_number": 43
    },
    {
     "cell_type": "code",
     "collapsed": false,
     "input": [
      "# 4.\n",
      "\n",
      "num_words = len(text_clean.split(\" \"))\n",
      "print(\"The number of words in the text is %d\" % num_words)"
     ],
     "language": "python",
     "metadata": {},
     "outputs": [
      {
       "output_type": "stream",
       "stream": "stdout",
       "text": [
        "The number of words in the text is 118\n"
       ]
      }
     ],
     "prompt_number": 44
    },
    {
     "cell_type": "code",
     "collapsed": false,
     "input": [
      "# 5.\n",
      "\n",
      "# using for loop\n",
      "num_long_words = 0\n",
      "for word in text_clean.split(\" \"):\n",
      "    if len(word) > 5:\n",
      "        num_long_words += 1\n",
      "        \n",
      "print(\"The number of words in the text longer than 5 characters is %d\" % num_long_words)\n",
      "\n",
      "# using list comprehension\n",
      "num_long_words_v2 = len([word for word in text_clean.split(\" \") if len(word) > 5])\n",
      "print(\"The number of words in the text longer than 5 characters is %d\" % num_long_words_v2)"
     ],
     "language": "python",
     "metadata": {},
     "outputs": [
      {
       "output_type": "stream",
       "stream": "stdout",
       "text": [
        "The number of words in the text longer than 5 characters is 56\n",
        "The number of words in the text longer than 5 characters is 56\n"
       ]
      }
     ],
     "prompt_number": 45
    },
    {
     "cell_type": "markdown",
     "metadata": {},
     "source": [
      "### Exercise: the birthday paradox"
     ]
    },
    {
     "cell_type": "markdown",
     "metadata": {},
     "source": [
      "The [birtday problem](#http://en.wikipedia.org/wiki/Birthday_problem) is a classical and surprising observation in probability theory. It loosely states that given a group of people, there is a surprisingly high probability that there are two of them who happen to share birthdays. Even in a group of only 23 people, this probability is 0.5. In this problem, you should prove this by simulation.\n",
      "\n",
      "1. to the beginning of your code, put `import random`. This will load Python functions that generate random numbers.\n",
      "2. to generate a random integer between a and b, use `random.randint(a, b)`. Inspect its help by typing `random.int?`\n",
      "and experiment with it for some time.\n",
      "3. write a function that takes a parameter `n_class` and generates a list of birthdays. The has length `n_class`. Each element of the list is a random integer between 1 and 365, representing the possible birthdays (don't bother now with 29th February)\n",
      "    * you can do this either by using a for-loop or using list comprehension\n",
      "    * the \"skeleton\" of your function should look like\n",
      "    ```\n",
      "    def generate_class_birthdays(n_class):\n",
      "          \"\"\"\n",
      "          Generate a list containing \"n_class\" random integers between 1 and 365,\n",
      "          representing birthdays.\n",
      "          \"\"\"\n",
      "          # here comes your code that will produce a variable \"list_birthdays\" that the\n",
      "          # function returns\n",
      "          return list_birthdays\n",
      "    ```\n",
      "4. Write another function `are_elements_unique` that takes a list as input and returns `True` if there are two elements which are the same and `False` otherwise\n",
      "    * you can get the number of unique elements of a list `list_a` by calling `len(set(list_a))`\n",
      "    * there are two elements that are the same if the number of unique elements is strictly less than the number of elements\n",
      "5. Write a third function `birthday_paradox` that takes two inputs, `n_class` and `n_rep`, the size of the class and the number of random classes we want to generate. Within the function, write a loop that `n_rep` times does the following:\n",
      "    * generate a list containing birthdays using `generate_class_birthdays(n_class)`\n",
      "    * inspect the list with `are_elements_unique` if there are common birthdays\n",
      "        * if elements are unique, it means there are NO common birthdays\n",
      "    * before the for loop, you should define an integer `count_if_common = 0` whose value you increase by 1 if the currently generated class contains common birthdays\n",
      "After the loop, divide `count_if_common` by `n_reps` to get the probability that for a class of size `n_class` there are common birthdays. BE CAREFUL! If you divide an integer with a bigger integer, you'll get zero. Please convert `n_reps` to float, that is, calculate `n_class / float(n_reps)`. \n",
      "    * if you want to print a `float`, use the `%.2f` formatter for precision of 2 digits, `%.4f` for 4 digits, etc., similarly to `%d` and `%s`\n",
      "\n",
      "6. Test your function using `n_class = 23` and `n_reps = 10000`."
     ]
    },
    {
     "cell_type": "markdown",
     "metadata": {},
     "source": [
      "### Solution"
     ]
    },
    {
     "cell_type": "code",
     "collapsed": false,
     "input": [
      "import random\n",
      "\n",
      "def generate_class_birthdays(n_class):\n",
      "    \"\"\"\n",
      "    Generate a list containing \"n_class\" random integers between 1 and 365,\n",
      "    representing birthdays.\n",
      "    \"\"\"\n",
      "    list_birthdays = []\n",
      "    for x in range(n_class):\n",
      "        list_birthdays.append(random.randint(1, 365))\n",
      "    return list_birthdays"
     ],
     "language": "python",
     "metadata": {},
     "outputs": [],
     "prompt_number": 46
    },
    {
     "cell_type": "code",
     "collapsed": false,
     "input": [
      "def are_elements_unique(list):\n",
      "    \"\"\"\n",
      "    Test if elements are unique in a list\n",
      "    \"\"\"\n",
      "    return len(list) == len(set(list))"
     ],
     "language": "python",
     "metadata": {},
     "outputs": [],
     "prompt_number": 47
    },
    {
     "cell_type": "code",
     "collapsed": false,
     "input": [
      "def birthday_paradox(n_class, n_reps):\n",
      "    \"\"\"\n",
      "    Prints the probability that in a group of people with size n_class\n",
      "    there are at least two people with the same birthdays.\n",
      "    \"\"\"\n",
      "    count_if_common = 0\n",
      "    for x in range(n_reps):\n",
      "        group_birthdays = generate_class_birthdays(n_class)\n",
      "        if not(are_elements_unique(group_birthdays)):\n",
      "            count_if_common += 1\n",
      "    \n",
      "    print(\"The probability for a class of size %d is %.2f\" % (n_class, count_if_common / float(n_reps)))\n",
      "    "
     ],
     "language": "python",
     "metadata": {},
     "outputs": [],
     "prompt_number": 48
    },
    {
     "cell_type": "code",
     "collapsed": false,
     "input": [
      "birthday_paradox(23, 10000)"
     ],
     "language": "python",
     "metadata": {},
     "outputs": [
      {
       "output_type": "stream",
       "stream": "stdout",
       "text": [
        "The probability for a class of size 23 is 0.50\n"
       ]
      }
     ],
     "prompt_number": 49
    }
   ],
   "metadata": {}
  }
 ]
}